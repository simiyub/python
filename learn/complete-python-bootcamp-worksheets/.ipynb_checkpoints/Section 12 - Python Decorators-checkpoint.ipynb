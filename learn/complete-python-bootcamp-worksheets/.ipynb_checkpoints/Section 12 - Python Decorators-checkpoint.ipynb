{
 "cells": [
  {
   "cell_type": "code",
   "execution_count": 3,
   "metadata": {},
   "outputs": [],
   "source": [
    "# Tag on extra functionality that already exists\n",
    "\n",
    "def some_decorator(self):\n",
    "    print(\"am a decorator\")\n",
    "\n",
    "@some_decorator\n",
    "def simple_func():\n",
    "    #Do simple stuff\n",
    "    pass"
   ]
  },
  {
   "cell_type": "code",
   "execution_count": 11,
   "metadata": {},
   "outputs": [],
   "source": [
    "#passing functions to other functions as they are objects\n",
    "def greet():\n",
    "    return input(\"what is your name?\")\n",
    "\n",
    "def hello(greet):\n",
    "    return \"Hello \"+greet()"
   ]
  },
  {
   "cell_type": "code",
   "execution_count": 12,
   "metadata": {},
   "outputs": [
    {
     "name": "stdout",
     "output_type": "stream",
     "text": [
      "what is your name?Peter\n"
     ]
    },
    {
     "data": {
      "text/plain": [
       "'Hello Peter'"
      ]
     },
     "execution_count": 12,
     "metadata": {},
     "output_type": "execute_result"
    }
   ],
   "source": [
    "hello(greet)"
   ]
  },
  {
   "cell_type": "code",
   "execution_count": 13,
   "metadata": {},
   "outputs": [],
   "source": [
    "def decorator(original_func):\n",
    "    \n",
    "    def wrap_func():\n",
    "        print('Code before')\n",
    "        original_func()\n",
    "        print('Code after')\n",
    "        \n",
    "    return wrap_func\n",
    "\n",
    "def func_needs_decorator():\n",
    "    print('needs decorator')\n",
    "    "
   ]
  },
  {
   "cell_type": "code",
   "execution_count": 14,
   "metadata": {},
   "outputs": [],
   "source": [
    "decorated_func = decorator(func_needs_decorator)"
   ]
  },
  {
   "cell_type": "code",
   "execution_count": 15,
   "metadata": {},
   "outputs": [
    {
     "name": "stdout",
     "output_type": "stream",
     "text": [
      "Code before\n",
      "needs decorator\n",
      "Code after\n"
     ]
    }
   ],
   "source": [
    "decorated_func()"
   ]
  },
  {
   "cell_type": "code",
   "execution_count": 16,
   "metadata": {},
   "outputs": [],
   "source": [
    "@decorator\n",
    "def func_needs_decorator():\n",
    "    print('needs decorator. uses @decorator')"
   ]
  },
  {
   "cell_type": "code",
   "execution_count": 17,
   "metadata": {},
   "outputs": [
    {
     "name": "stdout",
     "output_type": "stream",
     "text": [
      "Code before\n",
      "needs decorator. uses @decorator\n",
      "Code after\n"
     ]
    }
   ],
   "source": [
    "func_needs_decorator()"
   ]
  },
  {
   "cell_type": "code",
   "execution_count": null,
   "metadata": {},
   "outputs": [],
   "source": []
  }
 ],
 "metadata": {
  "kernelspec": {
   "display_name": "Python 3",
   "language": "python",
   "name": "python3"
  },
  "language_info": {
   "codemirror_mode": {
    "name": "ipython",
    "version": 3
   },
   "file_extension": ".py",
   "mimetype": "text/x-python",
   "name": "python",
   "nbconvert_exporter": "python",
   "pygments_lexer": "ipython3",
   "version": "3.6.4"
  }
 },
 "nbformat": 4,
 "nbformat_minor": 2
}
