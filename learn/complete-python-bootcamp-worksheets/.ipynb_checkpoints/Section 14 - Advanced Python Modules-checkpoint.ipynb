{
 "cells": [
  {
   "cell_type": "code",
   "execution_count": 10,
   "metadata": {},
   "outputs": [
    {
     "data": {
      "text/plain": [
       "[('i', 4)]"
      ]
     },
     "execution_count": 10,
     "metadata": {},
     "output_type": "execute_result"
    }
   ],
   "source": [
    "#Python Collections Module\n",
    "#Specialised containers\n",
    "from collections import Counter # Dictionary subclass element as key and the count as the value\n",
    "# Has some useful functions such as most_common\n",
    "my_list = [1,2,3,43,5,5,2,1,4,5,65,2,4,5,2,1,]\n",
    "Counter (my_list)\n",
    "\n",
    "Counter('Mississippi')\n",
    "\n",
    "Counter('I need alot of help here i am help in need'.lower().split())\n",
    "Counter('Mississippi').most_common()\n",
    "Counter('Mississippi').most_common(1)"
   ]
  },
  {
   "cell_type": "code",
   "execution_count": 11,
   "metadata": {},
   "outputs": [],
   "source": [
    "from collections import defaultdict\n",
    "#assigns a default value for msising key\n",
    "d = defaultdict(lambda:'unknown')"
   ]
  },
  {
   "cell_type": "code",
   "execution_count": 12,
   "metadata": {},
   "outputs": [
    {
     "data": {
      "text/plain": [
       "'unknown'"
      ]
     },
     "execution_count": 12,
     "metadata": {},
     "output_type": "execute_result"
    }
   ],
   "source": [
    "d['correct']"
   ]
  },
  {
   "cell_type": "code",
   "execution_count": 16,
   "metadata": {},
   "outputs": [
    {
     "data": {
      "text/plain": [
       "__main__.Dog"
      ]
     },
     "execution_count": 16,
     "metadata": {},
     "output_type": "execute_result"
    }
   ],
   "source": [
    "from collections import namedtuple\n",
    "#expands on the normal tuple with a named index for a value\n",
    "my_tuple = (1,2,3)\n",
    "Dog = namedtuple('Dog',['age', 'breed', 'name'])\n",
    "sammy = Dog(age=5, breed='Husky', name='Sam')\n",
    "type(sammy)"
   ]
  },
  {
   "cell_type": "code",
   "execution_count": 17,
   "metadata": {},
   "outputs": [
    {
     "data": {
      "text/plain": [
       "Dog(age=5, breed='Husky', name='Sam')"
      ]
     },
     "execution_count": 17,
     "metadata": {},
     "output_type": "execute_result"
    }
   ],
   "source": [
    "sammy"
   ]
  },
  {
   "cell_type": "code",
   "execution_count": 18,
   "metadata": {},
   "outputs": [
    {
     "data": {
      "text/plain": [
       "'/Users/simiyub/Development/code/python/learn/complete-python-bootcamp-worksheets'"
      ]
     },
     "execution_count": 18,
     "metadata": {},
     "output_type": "execute_result"
    }
   ],
   "source": [
    "pwd #current file path in the format of your os"
   ]
  },
  {
   "cell_type": "code",
   "execution_count": 19,
   "metadata": {},
   "outputs": [],
   "source": [
    "f = open('/Users/simiyub/Development/code/python/learn/complete-python-bootcamp-worksheets/open and read files and folders exercise.txt','w+')\n",
    "f.write('Line 1 of string to write.')\n",
    "f.close()"
   ]
  },
  {
   "cell_type": "code",
   "execution_count": 20,
   "metadata": {},
   "outputs": [],
   "source": [
    "import os"
   ]
  },
  {
   "cell_type": "code",
   "execution_count": 21,
   "metadata": {},
   "outputs": [
    {
     "data": {
      "text/plain": [
       "'/Users/simiyub/Development/code/python/learn/complete-python-bootcamp-worksheets'"
      ]
     },
     "execution_count": 21,
     "metadata": {},
     "output_type": "execute_result"
    }
   ],
   "source": [
    "os.getcwd()#get current working directory"
   ]
  },
  {
   "cell_type": "code",
   "execution_count": 26,
   "metadata": {},
   "outputs": [
    {
     "data": {
      "text/plain": [
       "[' Section 13 - Iterators and Generators Homework.ipynb',\n",
       " ' Section 13 - Python Generators.ipynb',\n",
       " '.DS_Store',\n",
       " '.ipynb_checkpoints',\n",
       " '04-Comparison operators worksheet.ipynb',\n",
       " '05-Python statements worksheet.ipynb',\n",
       " '06-Function Practice Exercises.ipynb',\n",
       " '06-Methods and Functions.ipynb',\n",
       " '08-Functions and Methods Homework.ipynb',\n",
       " '09-Objects and Data Structures Assessment Test.ipynb',\n",
       " 'course_source_code',\n",
       " 'course_source_code.zip',\n",
       " 'file_for_io.txt',\n",
       " 'myfile.txt',\n",
       " 'new_append.txt',\n",
       " 'new_overwrite.txt',\n",
       " 'open and read files and folders exercise.txt',\n",
       " 'README.md',\n",
       " 'Section 10 - Errors and Exceptions Handling Homework.ipynb',\n",
       " 'Section 10 - Errors and Exceptions Handling.ipynb',\n",
       " 'Section 10- UnitTesting',\n",
       " 'Section 11 - Milestone Project - 2 - Assignment.ipynb',\n",
       " 'Section 11 - Milestone Project - 2-Warmup-Project.ipynb',\n",
       " 'Section 12 - Python Decorators.ipynb',\n",
       " 'Section 14 - Advanced Python Modules.ipynb',\n",
       " 'Section 7 - Milestone Project - 1.ipynb',\n",
       " 'Section 8 - Object Oriented Programming - Homework.ipynb',\n",
       " 'Section 8 - Object Oriented Programming Challenge.ipynb',\n",
       " 'Section 8 - Object Oriented Programming.ipynb',\n",
       " 'Section 9 - Modules and Packages.ipynb',\n",
       " 'section10ErrorsAndExceptions',\n",
       " 'section3-object_data_structure_basics.ipynb',\n",
       " 'section9ModulesandPackages',\n",
       " 'Untitled.ipynb',\n",
       " 'Untitled1.ipynb',\n",
       " 'Untitled2.ipynb',\n",
       " 'Untitled3.ipynb',\n",
       " 'Untitled4.ipynb',\n",
       " 'write.txt']"
      ]
     },
     "execution_count": 26,
     "metadata": {},
     "output_type": "execute_result"
    }
   ],
   "source": [
    "os.listdir()"
   ]
  },
  {
   "cell_type": "code",
   "execution_count": 33,
   "metadata": {},
   "outputs": [
    {
     "data": {
      "text/plain": [
       "['.DS_Store', '.git', 'demo', 'learn', 'projects']"
      ]
     },
     "execution_count": 33,
     "metadata": {},
     "output_type": "execute_result"
    }
   ],
   "source": [
    "os.listdir('/Users/simiyub/Development/code/python/')"
   ]
  },
  {
   "cell_type": "code",
   "execution_count": 35,
   "metadata": {},
   "outputs": [
    {
     "data": {
      "text/plain": [
       "'/Users/simiyub/Development/code/python/learn/complete-python-bootcamp-worksheets/test_files2/test_files'"
      ]
     },
     "execution_count": 35,
     "metadata": {},
     "output_type": "execute_result"
    }
   ],
   "source": [
    "import shutil\n",
    "shutil.move('/Users/simiyub/Development/code/python/learn/complete-python-bootcamp-worksheets/test_files','/Users/simiyub/Development/code/python/learn/complete-python-bootcamp-worksheets/test_files2/')"
   ]
  },
  {
   "cell_type": "code",
   "execution_count": 38,
   "metadata": {},
   "outputs": [
    {
     "data": {
      "text/plain": [
       "['test_files']"
      ]
     },
     "execution_count": 38,
     "metadata": {},
     "output_type": "execute_result"
    }
   ],
   "source": [
    "os.listdir('/Users/simiyub/Development/code/python/learn/complete-python-bootcamp-worksheets/test_files2/')"
   ]
  },
  {
   "cell_type": "code",
   "execution_count": null,
   "metadata": {},
   "outputs": [],
   "source": []
  }
 ],
 "metadata": {
  "kernelspec": {
   "display_name": "Python 3",
   "language": "python",
   "name": "python3"
  },
  "language_info": {
   "codemirror_mode": {
    "name": "ipython",
    "version": 3
   },
   "file_extension": ".py",
   "mimetype": "text/x-python",
   "name": "python",
   "nbconvert_exporter": "python",
   "pygments_lexer": "ipython3",
   "version": "3.6.4"
  }
 },
 "nbformat": 4,
 "nbformat_minor": 2
}
