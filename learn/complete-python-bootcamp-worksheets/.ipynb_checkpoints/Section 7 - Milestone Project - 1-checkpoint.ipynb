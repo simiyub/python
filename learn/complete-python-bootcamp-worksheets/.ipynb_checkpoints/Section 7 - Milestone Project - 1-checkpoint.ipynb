{
 "cells": [
  {
   "cell_type": "code",
   "execution_count": 59,
   "metadata": {},
   "outputs": [
    {
     "name": "stdout",
     "output_type": "stream",
     "text": [
      "Please enter a value:4\n",
      "Choose where to add it0\n"
     ]
    },
    {
     "data": {
      "text/plain": [
       "[4, '', '']"
      ]
     },
     "execution_count": 59,
     "metadata": {},
     "output_type": "execute_result"
    }
   ],
   "source": [
    "rows=['','','']\n",
    "user_input= int(input(\"Please enter a value:\"))\n",
    "user_input\n",
    "index = int(input(\"Choose where to add it\"))\n",
    "index\n",
    "rows[index] = user_input\n",
    "rows"
   ]
  },
  {
   "cell_type": "code",
   "execution_count": 60,
   "metadata": {},
   "outputs": [],
   "source": [
    "def user_choice_1():\n",
    "    choice = 'WRONG'\n",
    "    while not choice.isdigit():\n",
    "        choice = input(\"Please enter a number 0-10\")\n",
    "    try:\n",
    "        choice = int(choice)\n",
    "        if(0<=choice<=10):\n",
    "                return choice\n",
    "        else:\n",
    "            return (\"invalid choice:\"+str(choice))                   \n",
    "\n",
    "    except Exception as exc:\n",
    "        return exc"
   ]
  },
  {
   "cell_type": "code",
   "execution_count": 79,
   "metadata": {},
   "outputs": [],
   "source": [
    "def user_choice_2():\n",
    "    '''if user input is a digit and within range :0-10 we return the integer value.'''\n",
    "    choice = 'WRONG'\n",
    "    within_range = lambda val: val in list(range(11))\n",
    "    acceptable_range = range(0,10)\n",
    "    while choice.isdigit()==False or within_range==False:\n",
    "        choice = input(\"Please enter a number 0-10\")\n",
    "        \n",
    "       # if not choice.isdigit():\n",
    "        #    print(f\"Sorry {choice} is not a digit.\")\n",
    "        #elif not within_range(choice):\n",
    "         #   print( f\"{choice} is not in range 0-10\")\n",
    "            \n",
    "        if choice.isdigit() == True:\n",
    "            if int(choice) in acceptable_range:\n",
    "                within_range = True\n",
    "            else:\n",
    "                print(f\"Sorry {choice} out of range\")\n",
    "                within_range = False\n",
    "            \n",
    "    try:\n",
    "        return int(choice)                 \n",
    "\n",
    "    except Exception as exc:\n",
    "        return exc"
   ]
  },
  {
   "cell_type": "code",
   "execution_count": 81,
   "metadata": {},
   "outputs": [
    {
     "name": "stdout",
     "output_type": "stream",
     "text": [
      "Please enter a number 0-1067\n",
      "Sorry 67 out of range\n",
      "Please enter a number 0-10fg\n",
      "Please enter a number 0-104\n"
     ]
    },
    {
     "data": {
      "text/plain": [
       "4"
      ]
     },
     "execution_count": 81,
     "metadata": {},
     "output_type": "execute_result"
    }
   ],
   "source": [
    "user_choice_2()"
   ]
  },
  {
   "cell_type": "code",
   "execution_count": 82,
   "metadata": {},
   "outputs": [],
   "source": [
    "game_list = [0,1,2]"
   ]
  },
  {
   "cell_type": "code",
   "execution_count": 83,
   "metadata": {},
   "outputs": [],
   "source": [
    "def display_game(game_list):\n",
    "    print(\"Here is the current list: \")\n",
    "    print(game_list)"
   ]
  },
  {
   "cell_type": "code",
   "execution_count": 84,
   "metadata": {},
   "outputs": [
    {
     "name": "stdout",
     "output_type": "stream",
     "text": [
      "Here is the current list: \n",
      "[0, 1, 2]\n"
     ]
    }
   ],
   "source": [
    "display_game(game_list)"
   ]
  },
  {
   "cell_type": "code",
   "execution_count": 85,
   "metadata": {},
   "outputs": [],
   "source": [
    "def position_choice():\n",
    "    choice = 'wrong'\n",
    "    \n",
    "    while choice not in ['0','1','2']:\n",
    "        choice = input('Pick a position from (0,1,2):')\n",
    "        \n",
    "        if choice not in ['0','1','2']:\n",
    "            print('Sorry, invalid choice')\n",
    "    return int(choice)"
   ]
  },
  {
   "cell_type": "code",
   "execution_count": 88,
   "metadata": {},
   "outputs": [],
   "source": [
    "def replacement_choice(game_list, position):\n",
    "    user_placement = input(f'Type a String to place at your chosen position: {position}')\n",
    "    game_list[position] = user_placement\n",
    "    return game_list"
   ]
  },
  {
   "cell_type": "code",
   "execution_count": 8,
   "metadata": {},
   "outputs": [],
   "source": [
    "def game_on():\n",
    "    choice = 'wrong'\n",
    "    choices = ['Y', 'N']\n",
    "    while choice not in choices:\n",
    "        choice = input(f'Keep Playing? {choices}:')\n",
    "        \n",
    "        if choice not in choices:\n",
    "            print(f'Sorry,please choose {choices}')\n",
    "    return True if choice =='Y' else False"
   ]
  },
  {
   "cell_type": "code",
   "execution_count": 9,
   "metadata": {},
   "outputs": [
    {
     "ename": "NameError",
     "evalue": "name 'display_game' is not defined",
     "output_type": "error",
     "traceback": [
      "\u001b[0;31m---------------------------------------------------------------------------\u001b[0m",
      "\u001b[0;31mNameError\u001b[0m                                 Traceback (most recent call last)",
      "\u001b[0;32m<ipython-input-9-b95f88bbd6c3>\u001b[0m in \u001b[0;36m<module>\u001b[0;34m()\u001b[0m\n\u001b[1;32m      3\u001b[0m \u001b[0;34m\u001b[0m\u001b[0m\n\u001b[1;32m      4\u001b[0m \u001b[0;32mwhile\u001b[0m \u001b[0mplay\u001b[0m\u001b[0;34m:\u001b[0m\u001b[0;34m\u001b[0m\u001b[0m\n\u001b[0;32m----> 5\u001b[0;31m     \u001b[0mdisplay_game\u001b[0m\u001b[0;34m(\u001b[0m\u001b[0mgame_list\u001b[0m\u001b[0;34m)\u001b[0m\u001b[0;34m\u001b[0m\u001b[0m\n\u001b[0m\u001b[1;32m      6\u001b[0m     \u001b[0mposition\u001b[0m \u001b[0;34m=\u001b[0m \u001b[0mposition_choice\u001b[0m\u001b[0;34m(\u001b[0m\u001b[0;34m)\u001b[0m\u001b[0;34m\u001b[0m\u001b[0m\n\u001b[1;32m      7\u001b[0m     \u001b[0mgame_list\u001b[0m \u001b[0;34m=\u001b[0m \u001b[0mreplacement_choice\u001b[0m\u001b[0;34m(\u001b[0m\u001b[0mgame_list\u001b[0m\u001b[0;34m,\u001b[0m \u001b[0mposition\u001b[0m\u001b[0;34m)\u001b[0m\u001b[0;34m\u001b[0m\u001b[0m\n",
      "\u001b[0;31mNameError\u001b[0m: name 'display_game' is not defined"
     ]
    }
   ],
   "source": [
    "play = True\n",
    "game_list = [0,1,2]\n",
    "\n",
    "while play:\n",
    "    display_game(game_list)\n",
    "    position = position_choice()\n",
    "    game_list = replacement_choice(game_list, position)\n",
    "    display_game(game_list)\n",
    "    play = game_on()"
   ]
  },
  {
   "cell_type": "code",
   "execution_count": 10,
   "metadata": {},
   "outputs": [],
   "source": [
    "def print_board(board):\n",
    "    '''display what the board has at the moment'''\n",
    "    for them in board:\n",
    "        output = \"|\"\n",
    "        for x in them:\n",
    "            output+=str(x)+\"|\"\n",
    "        print(output)\n",
    "    "
   ]
  },
  {
   "cell_type": "code",
   "execution_count": 11,
   "metadata": {},
   "outputs": [],
   "source": [
    "def new_board():\n",
    "    '''board with player moves'''\n",
    "    return [[1,2,3],[4,5,6],[7,8,9]]"
   ]
  },
  {
   "cell_type": "code",
   "execution_count": 12,
   "metadata": {},
   "outputs": [],
   "source": [
    "def on_board(board, choice):\n",
    "    '''check if requested number is on the board'''\n",
    "    for row in board:\n",
    "        for number in row:\n",
    "            if choice==number:\n",
    "                return True\n",
    "            \n",
    "    return False"
   ]
  },
  {
   "cell_type": "code",
   "execution_count": 13,
   "metadata": {},
   "outputs": [],
   "source": [
    "def valid_user_input(user_input):\n",
    "    '''check if user input is valid'''\n",
    "    in_range = lambda number: int(number) in range (1,10)\n",
    "    return (user_input.isdigit() and in_range(user_input))\n",
    "    \n",
    "    "
   ]
  },
  {
   "cell_type": "code",
   "execution_count": 14,
   "metadata": {},
   "outputs": [],
   "source": [
    "def play():\n",
    "    '''get user play and add to board'''\n",
    "    current_board = new_board()\n",
    "    valid_input = False\n",
    "    \n",
    "    def available(num):    \n",
    "        for n in current_board:\n",
    "            if (num in n):\n",
    "                return True\n",
    "        return False\n",
    "    \n",
    "    while not valid_input:\n",
    "        print_board(current_board)\n",
    "        user_input = input(\"Choose a space to play from table below.\")        \n",
    "        if(valid_user_input(user_input) ):            \n",
    "            valid_input = True\n",
    "            user_input = int(user_input)\n",
    "            if(available(user_input)):\n",
    "                print(\"Available!\")\n",
    "            else:\n",
    "                print(\"Not available\")\n",
    "                \n",
    "        else:\n",
    "            print(f'{user_input} is invalid.')\n",
    "\n",
    "    #    for row in current_board:\n",
    "     #       if user_input in row:\n",
    "      #          row(row.index(user_input))==user_input"
   ]
  },
  {
   "cell_type": "code",
   "execution_count": 15,
   "metadata": {},
   "outputs": [
    {
     "name": "stdout",
     "output_type": "stream",
     "text": [
      "|1|2|3|\n",
      "|4|5|6|\n",
      "|7|8|9|\n",
      "Choose a space to play from table below.g\n",
      "g is invalid.\n",
      "|1|2|3|\n",
      "|4|5|6|\n",
      "|7|8|9|\n",
      "Choose a space to play from table below.4\n",
      "Available!\n"
     ]
    }
   ],
   "source": [
    "play()"
   ]
  },
  {
   "cell_type": "code",
   "execution_count": null,
   "metadata": {},
   "outputs": [],
   "source": []
  }
 ],
 "metadata": {
  "kernelspec": {
   "display_name": "Python 3",
   "language": "python",
   "name": "python3"
  },
  "language_info": {
   "codemirror_mode": {
    "name": "ipython",
    "version": 3
   },
   "file_extension": ".py",
   "mimetype": "text/x-python",
   "name": "python",
   "nbconvert_exporter": "python",
   "pygments_lexer": "ipython3",
   "version": "3.6.4"
  }
 },
 "nbformat": 4,
 "nbformat_minor": 2
}
