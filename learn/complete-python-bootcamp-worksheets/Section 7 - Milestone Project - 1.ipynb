{
 "cells": [
  {
   "cell_type": "code",
   "execution_count": 59,
   "metadata": {},
   "outputs": [
    {
     "name": "stdout",
     "output_type": "stream",
     "text": [
      "Please enter a value:4\n",
      "Choose where to add it0\n"
     ]
    },
    {
     "data": {
      "text/plain": [
       "[4, '', '']"
      ]
     },
     "execution_count": 59,
     "metadata": {},
     "output_type": "execute_result"
    }
   ],
   "source": [
    "rows=['','','']\n",
    "user_input= int(input(\"Please enter a value:\"))\n",
    "user_input\n",
    "index = int(input(\"Choose where to add it\"))\n",
    "index\n",
    "rows[index] = user_input\n",
    "rows"
   ]
  },
  {
   "cell_type": "code",
   "execution_count": 60,
   "metadata": {},
   "outputs": [],
   "source": [
    "def user_choice_1():\n",
    "    choice = 'WRONG'\n",
    "    while not choice.isdigit():\n",
    "        choice = input(\"Please enter a number 0-10\")\n",
    "    try:\n",
    "        choice = int(choice)\n",
    "        if(0<=choice<=10):\n",
    "                return choice\n",
    "        else:\n",
    "            return (\"invalid choice:\"+str(choice))                   \n",
    "\n",
    "    except Exception as exc:\n",
    "        return exc"
   ]
  },
  {
   "cell_type": "code",
   "execution_count": 79,
   "metadata": {},
   "outputs": [],
   "source": [
    "def user_choice_2():\n",
    "    '''if user input is a digit and within range :0-10 we return the integer value.'''\n",
    "    choice = 'WRONG'\n",
    "    within_range = lambda val: val in list(range(11))\n",
    "    acceptable_range = range(0,10)\n",
    "    while choice.isdigit()==False or within_range==False:\n",
    "        choice = input(\"Please enter a number 0-10\")\n",
    "        \n",
    "       # if not choice.isdigit():\n",
    "        #    print(f\"Sorry {choice} is not a digit.\")\n",
    "        #elif not within_range(choice):\n",
    "         #   print( f\"{choice} is not in range 0-10\")\n",
    "            \n",
    "        if choice.isdigit() == True:\n",
    "            if int(choice) in acceptable_range:\n",
    "                within_range = True\n",
    "            else:\n",
    "                print(f\"Sorry {choice} out of range\")\n",
    "                within_range = False\n",
    "            \n",
    "    try:\n",
    "        return int(choice)                 \n",
    "\n",
    "    except Exception as exc:\n",
    "        return exc"
   ]
  },
  {
   "cell_type": "code",
   "execution_count": 81,
   "metadata": {},
   "outputs": [
    {
     "name": "stdout",
     "output_type": "stream",
     "text": [
      "Please enter a number 0-1067\n",
      "Sorry 67 out of range\n",
      "Please enter a number 0-10fg\n",
      "Please enter a number 0-104\n"
     ]
    },
    {
     "data": {
      "text/plain": [
       "4"
      ]
     },
     "execution_count": 81,
     "metadata": {},
     "output_type": "execute_result"
    }
   ],
   "source": [
    "user_choice_2()"
   ]
  },
  {
   "cell_type": "code",
   "execution_count": 70,
   "metadata": {},
   "outputs": [],
   "source": [
    "game_list = [0,1,2]"
   ]
  },
  {
   "cell_type": "code",
   "execution_count": 71,
   "metadata": {},
   "outputs": [],
   "source": [
    "def display_game(game_list):\n",
    "    print(\"Here is the current list: \")\n",
    "    print(game_list)"
   ]
  },
  {
   "cell_type": "code",
   "execution_count": 72,
   "metadata": {},
   "outputs": [
    {
     "name": "stdout",
     "output_type": "stream",
     "text": [
      "Here is the current list: \n",
      "[0, 1, 2]\n"
     ]
    }
   ],
   "source": [
    "display_game(game_list)"
   ]
  },
  {
   "cell_type": "code",
   "execution_count": 73,
   "metadata": {},
   "outputs": [],
   "source": [
    "def position_choice():\n",
    "    choice = 'wrong'\n",
    "    \n",
    "    while choice not in ['0','1','2']:\n",
    "        choice = input('Pick a position from (0,1,2):')\n",
    "        \n",
    "        if choice not in ['0','1','2']:\n",
    "            print('Sorry, invalid choice')\n",
    "    return int(choice)"
   ]
  },
  {
   "cell_type": "code",
   "execution_count": 74,
   "metadata": {},
   "outputs": [],
   "source": [
    "def replacement_choice(game_list, position):\n",
    "    user_placement = input(f'Type a String to place at your chosen position: {position}')\n",
    "    game_list[position] = user_placement\n",
    "    return game_list"
   ]
  },
  {
   "cell_type": "code",
   "execution_count": 75,
   "metadata": {},
   "outputs": [],
   "source": [
    "def game_on():\n",
    "    choice = 'wrong'\n",
    "    choices = ['Y', 'N']\n",
    "    while choice not in choices:\n",
    "        choice = input(f'Keep Playing? {choices}:')\n",
    "        \n",
    "        if choice not in choices:\n",
    "            print(f'Sorry,please choose {choices}')\n",
    "    return True if choice =='Y' else False"
   ]
  },
  {
   "cell_type": "code",
   "execution_count": 76,
   "metadata": {},
   "outputs": [
    {
     "name": "stdout",
     "output_type": "stream",
     "text": [
      "Here is the current list: \n",
      "[0, 1, 2]\n",
      "Pick a position from (0,1,2):1\n",
      "Type a String to place at your chosen position: 1'h'\n",
      "Here is the current list: \n",
      "[0, \"'h'\", 2]\n",
      "Keep Playing? ['Y', 'N']:N\n"
     ]
    }
   ],
   "source": [
    "play = True\n",
    "game_list = [0,1,2]\n",
    "\n",
    "while play:\n",
    "    display_game(game_list)\n",
    "    position = position_choice()\n",
    "    game_list = replacement_choice(game_list, position)\n",
    "    display_game(game_list)\n",
    "    play = game_on()"
   ]
  },
  {
   "cell_type": "markdown",
   "metadata": {},
   "source": [
    "Your assignment: Create a Tic Tac Toe game. You are free to use any IDE you like.\n",
    "\n",
    "Here are the requirements:\n",
    "\n",
    "2 players should be able to play the game (both sitting at the same computer)\n",
    "The board should be printed out every time a player makes a move\n",
    "You should be able to accept input of the player position and then place a symbol on the board\n",
    "Feel free to use Google to help you figure anything out (but don't just Google \"Tic Tac Toe in Python\" otherwise you won't learn anything!) Keep in mind that this project can take anywhere between several hours to several days."
   ]
  },
  {
   "cell_type": "code",
   "execution_count": 90,
   "metadata": {},
   "outputs": [],
   "source": [
    "def print_board(board):\n",
    "    '''display what the board has at the moment'''\n",
    "    for them in board:\n",
    "        output = \"|\"\n",
    "        for x in them:\n",
    "            output+=str(x)+\"|\"\n",
    "        print(output)\n",
    "    "
   ]
  },
  {
   "cell_type": "code",
   "execution_count": 91,
   "metadata": {},
   "outputs": [],
   "source": [
    "def new_board():\n",
    "    '''board with player moves'''\n",
    "    return [[1,2,3],[4,5,6],[7,8,9]]"
   ]
  },
  {
   "cell_type": "code",
   "execution_count": 92,
   "metadata": {},
   "outputs": [],
   "source": [
    "def on_board(board, choice):\n",
    "    '''check if requested number is on the board'''\n",
    "    for row in board:\n",
    "        for number in row:\n",
    "            if choice==number:\n",
    "                return True\n",
    "            \n",
    "    return False"
   ]
  },
  {
   "cell_type": "code",
   "execution_count": 93,
   "metadata": {},
   "outputs": [],
   "source": [
    "def valid_user_input(user_input):\n",
    "    '''check if user input is valid'''\n",
    "    in_range = lambda number: int(number) in range (1,10)\n",
    "    return (user_input.isdigit() and in_range(user_input))\n",
    "    \n",
    "    "
   ]
  },
  {
   "cell_type": "code",
   "execution_count": 94,
   "metadata": {},
   "outputs": [],
   "source": [
    "    def player_sign(player_number):\n",
    "        return \"X\" if player_number == 1 else \"O\""
   ]
  },
  {
   "cell_type": "code",
   "execution_count": 95,
   "metadata": {},
   "outputs": [],
   "source": [
    "def player_number(player_sign):\n",
    "    return 1 if player_sign == \"X\" else 2;"
   ]
  },
  {
   "cell_type": "code",
   "execution_count": 96,
   "metadata": {},
   "outputs": [],
   "source": [
    "def play():\n",
    "    '''get user play and add to board'''\n",
    "    current_board = new_board()\n",
    "    valid_input = False\n",
    "    player_number=1   \n",
    "    \n",
    "    \n",
    "    def available(num):    \n",
    "        for n in current_board:\n",
    "            if (num in n):                \n",
    "                return True\n",
    "        return False\n",
    "    \n",
    "    def update_board(num):\n",
    "        for n in current_board:\n",
    "            if (num in n):\n",
    "                n[n.index(num)]=player_sign(player_number)\n",
    "                return True\n",
    "            \n",
    "        return False;\n",
    "    \n",
    "    game_over = (winner(current_board) in [-1, 0]\n",
    "                 \n",
    "    while not valid_input or not game_over: \n",
    "        print_board(current_board)\n",
    "\n",
    "        user_input = input(f\" Player No.{player_number}. Choose a space to play from table below. Type Q to quit game.\")\n",
    "        if user_input.capitalize() == 'Q':\n",
    "            print(f\"Game ended at request of Player {player_number}\")\n",
    "            break;\n",
    "        if(valid_user_input(user_input) ):            \n",
    "            valid_input = True\n",
    "            user_input = int(user_input)\n",
    "            \n",
    "            if(available(user_input)):\n",
    "                print(f\"{user_input} is available!\")                \n",
    "                updated = update_board(user_input)\n",
    "                if updated:\n",
    "                    player_number = 1 if player_number == 2 else 2\n",
    "\n",
    "            else:\n",
    "                print(f\"{user_input} is not available\")\n",
    "                \n",
    "        else:\n",
    "            print(f'{user_input} is invalid.')\n",
    "\n",
    "    #    for row in current_board:\n",
    "     #       if user_input in row:\n",
    "      #          row(row.index(user_input))==user_input"
   ]
  },
  {
   "cell_type": "code",
   "execution_count": 106,
   "metadata": {},
   "outputs": [],
   "source": [
    "def winner(board):\n",
    "    winning_positions = [\n",
    "        [board[0][0], board[0][1], board[0][2]],\n",
    "        [board[0][0], board[1][0], board[2][0]],\n",
    "        [board[0][0], board[1][1], board[2][2]],\n",
    "        \n",
    "        [board[0][1], board[1][1], board[2][1]],\n",
    "        [board[0][2], board[1][1], board[2][0]],\n",
    "        [board[0][2], board[1][2], board[2][2]],\n",
    "        \n",
    "        [board[1][0], board[1][1], board[1][2]],\n",
    "        [board[2][0], board[2][1], board[2][2]]\n",
    "    ]\n",
    "    \n",
    "    for positions in winning_positions:\n",
    "        if positions[0] == positions[1] ==positions[2]:\n",
    "            print_board(board)\n",
    "            print(\"We have a winner. Drum roll please...\")\n",
    "            winner = player_number(positions[0])\n",
    "            print(f\"The Winner is player No.{winner}\")\n",
    "            return winner\n",
    "    for positions in board:\n",
    "        for position in positions:\n",
    "            if position not in ['X','O']:\n",
    "                return -1\n",
    "    else:\n",
    "        print(\"Game Over... We Have a Tie.\")\n",
    "        return 0;\n",
    "            \n",
    "    return -1;"
   ]
  },
  {
   "cell_type": "code",
   "execution_count": null,
   "metadata": {},
   "outputs": [
    {
     "name": "stdout",
     "output_type": "stream",
     "text": [
      "|1|2|3|\n",
      "|4|5|6|\n",
      "|7|8|9|\n",
      " Player No.1. Choose a space to play from table below. Type Q to quit game.2\n",
      "2 is available!\n",
      "|1|X|3|\n",
      "|4|5|6|\n",
      "|7|8|9|\n",
      " Player No.2. Choose a space to play from table below. Type Q to quit game.1\n",
      "1 is available!\n",
      "|O|X|3|\n",
      "|4|5|6|\n",
      "|7|8|9|\n"
     ]
    }
   ],
   "source": [
    "play()"
   ]
  },
  {
   "cell_type": "code",
   "execution_count": null,
   "metadata": {},
   "outputs": [],
   "source": []
  }
 ],
 "metadata": {
  "kernelspec": {
   "display_name": "Python 3",
   "language": "python",
   "name": "python3"
  },
  "language_info": {
   "codemirror_mode": {
    "name": "ipython",
    "version": 3
   },
   "file_extension": ".py",
   "mimetype": "text/x-python",
   "name": "python",
   "nbconvert_exporter": "python",
   "pygments_lexer": "ipython3",
   "version": "3.6.4"
  }
 },
 "nbformat": 4,
 "nbformat_minor": 2
}
