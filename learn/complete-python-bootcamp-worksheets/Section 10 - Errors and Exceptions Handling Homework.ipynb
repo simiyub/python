{
 "cells": [
  {
   "cell_type": "markdown",
   "metadata": {},
   "source": [
    "Problem 1\n",
    "Handle the exception thrown by the code below by using try and except blocks."
   ]
  },
  {
   "cell_type": "code",
   "execution_count": 10,
   "metadata": {},
   "outputs": [
    {
     "name": "stdout",
     "output_type": "stream",
     "text": [
      "this function will only work with integers\n",
      "this function will only work with integers\n",
      "this function will only work with integers\n"
     ]
    }
   ],
   "source": [
    "for i in ['a','b','c']: \n",
    "    try:\n",
    "        print(i**2)\n",
    "    except TypeError as err:\n",
    "        print(\"this function will only work with integers\")\n",
    "    except:\n",
    "        print(\"exception unforeseen\")"
   ]
  },
  {
   "cell_type": "markdown",
   "metadata": {},
   "source": [
    "Problem 2\n",
    "Handle the exception thrown by the code below by using try and except blocks. Then use a finally block to print 'All Done.'"
   ]
  },
  {
   "cell_type": "code",
   "execution_count": 13,
   "metadata": {},
   "outputs": [
    {
     "name": "stdout",
     "output_type": "stream",
     "text": [
      "couldn't process\n",
      "All done\n"
     ]
    }
   ],
   "source": [
    "try:\n",
    "    x = 5\n",
    "    y = 0\n",
    "\n",
    "    z = x/y\n",
    "except:\n",
    "    print(\"couldn't process\")\n",
    "finally:\n",
    "    print(\"All done\")"
   ]
  },
  {
   "cell_type": "markdown",
   "metadata": {},
   "source": [
    "Problem 3\n",
    "Write a function that asks for an integer and prints the square of it. Use a while loop with a try, except, else block to account for incorrect inputs."
   ]
  },
  {
   "cell_type": "code",
   "execution_count": 19,
   "metadata": {},
   "outputs": [],
   "source": [
    "def square_this():\n",
    "    while True:\n",
    "        try:\n",
    "            user_input = input(\"Please type a number to find it's square:\")\n",
    "            num = int(user_input)\n",
    "            sqr = num**2\n",
    "        except TypeError:\n",
    "            print(\"invalid input. try again\")\n",
    "            continue;\n",
    "        except ValueError:\n",
    "            print(\"invalid input. try again\")\n",
    "            continue;            \n",
    "        except Exception as exc:\n",
    "            print(f\"could not square {user_input}\")\n",
    "            print(exc)\n",
    "            break;\n",
    "        else:\n",
    "            print(f\"square of {num} is {sqr}\")\n",
    "            break;\n",
    "        finally:\n",
    "            print(\"all done\")\n",
    "        "
   ]
  },
  {
   "cell_type": "code",
   "execution_count": 20,
   "metadata": {},
   "outputs": [
    {
     "name": "stdout",
     "output_type": "stream",
     "text": [
      "Please type a number to find it's square:f\n",
      "invalid input. try again\n",
      "all done\n",
      "Please type a number to find it's square:d\n",
      "invalid input. try again\n",
      "all done\n",
      "Please type a number to find it's square:a\n",
      "invalid input. try again\n",
      "all done\n",
      "Please type a number to find it's square:4\n",
      "square of 4 is 16\n",
      "all done\n"
     ]
    }
   ],
   "source": [
    "square_this()"
   ]
  },
  {
   "cell_type": "code",
   "execution_count": 18,
   "metadata": {},
   "outputs": [
    {
     "ename": "ValueError",
     "evalue": "invalid literal for int() with base 10: 'a'",
     "output_type": "error",
     "traceback": [
      "\u001b[0;31m---------------------------------------------------------------------------\u001b[0m",
      "\u001b[0;31mValueError\u001b[0m                                Traceback (most recent call last)",
      "\u001b[0;32m<ipython-input-18-233884bacd4e>\u001b[0m in \u001b[0;36m<module>\u001b[0;34m()\u001b[0m\n\u001b[0;32m----> 1\u001b[0;31m \u001b[0mint\u001b[0m\u001b[0;34m(\u001b[0m\u001b[0;34m'a'\u001b[0m\u001b[0;34m)\u001b[0m\u001b[0;34m\u001b[0m\u001b[0m\n\u001b[0m",
      "\u001b[0;31mValueError\u001b[0m: invalid literal for int() with base 10: 'a'"
     ]
    }
   ],
   "source": [
    "int('a')"
   ]
  },
  {
   "cell_type": "code",
   "execution_count": null,
   "metadata": {},
   "outputs": [],
   "source": []
  }
 ],
 "metadata": {
  "kernelspec": {
   "display_name": "Python 3",
   "language": "python",
   "name": "python3"
  },
  "language_info": {
   "codemirror_mode": {
    "name": "ipython",
    "version": 3
   },
   "file_extension": ".py",
   "mimetype": "text/x-python",
   "name": "python",
   "nbconvert_exporter": "python",
   "pygments_lexer": "ipython3",
   "version": "3.6.4"
  }
 },
 "nbformat": 4,
 "nbformat_minor": 2
}
