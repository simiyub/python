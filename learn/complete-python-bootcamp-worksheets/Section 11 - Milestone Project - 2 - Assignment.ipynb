{
 "cells": [
  {
   "cell_type": "markdown",
   "metadata": {},
   "source": [
    "___\n",
    "\n",
    "<a href='https://www.udemy.com/user/joseportilla/'><img src='../Pierian_Data_Logo.png'/></a>\n",
    "___\n",
    "<center><em>Content Copyright by Pierian Data</em></center>"
   ]
  },
  {
   "cell_type": "markdown",
   "metadata": {},
   "source": [
    "# Milestone Project 2 - Blackjack Game\n",
    "In this milestone project you will be creating a Complete BlackJack Card Game in Python.\n",
    "\n",
    "Here are the requirements:\n",
    "\n",
    "* You need to create a simple text-based [BlackJack](https://en.wikipedia.org/wiki/Blackjack) game\n",
    "* The game needs to have one player versus an automated dealer.\n",
    "* The player can stand or hit.\n",
    "* The player must be able to pick their betting amount.\n",
    "* You need to keep track of the player's total money.\n",
    "* You need to alert the player of wins, losses, or busts, etc...\n",
    "\n",
    "And most importantly:\n",
    "\n",
    "* **You must use OOP and classes in some portion of your game. You can not just use functions in your game. Use classes to help you define the Deck and the Player's hand. There are many right ways to do this, so explore it well!**\n",
    "\n",
    "\n",
    "Feel free to expand this game. Try including multiple players. Try adding in Double-Down and card splits! Remember to you are free to use any resources you want and as always:\n",
    "\n",
    "# HAVE FUN!"
   ]
  },
  {
   "cell_type": "code",
   "execution_count": 78,
   "metadata": {},
   "outputs": [],
   "source": [
    "suits = ('Hearts', 'Diamonds', 'Spades', 'Clubs')\n",
    "ranks = ('Two', 'Three', 'Four', 'Five', 'Six', 'Seven', 'Eight', 'Nine', 'Ten', 'Jack', 'Queen', 'King', 'Ace')\n",
    "values = {'Two':2, 'Three':3, 'Four':4, 'Five':5, 'Six':6, 'Seven':7, 'Eight':8, \n",
    "            'Nine':9, 'Ten':10, 'Jack':11, 'Queen':12, 'King':13, 'Ace':14}\n",
    "\n",
    "class Card():\n",
    "    def __init__(self, suit, rank):\n",
    "        self.suit = suit\n",
    "        self.rank = rank\n",
    "        self.value = values[self.rank]\n",
    "\n",
    "    def __str__(self):\n",
    "        return self.rank + \" of \"+self.suit\n",
    "    \n",
    "class BlackJackException(Exception):\n",
    "    '''Exceptions thrown while using blackjack'''\n",
    "    def __init__(self, message):\n",
    "        self.message= message;\n",
    "        \n",
    "class Player():\n",
    "    '''class used to create and manage blackjack players'''\n",
    "    def __init__(self, name):\n",
    "        self.name = name\n",
    "        self.cards = []\n",
    "        \n",
    "    def ad_cards(self, cards):\n",
    "        self.cards.extend(cards)\n",
    "        \n",
    "    def __str__(self):\n",
    "        return self.name\n",
    "    \n",
    "class Dealer():\n",
    "    '''class used to manage the dealer of the blackjack game'''\n",
    "    def __init__(self):\n",
    "        print(\"creating dealer..\")\n",
    "        \n",
    "    def deal_cards(self, players):\n",
    "        print(players)\n",
    "        raise BlackJackException(\" feature not implemented\")\n",
    "        \n",
    "        \n",
    "    "
   ]
  },
  {
   "cell_type": "code",
   "execution_count": 79,
   "metadata": {},
   "outputs": [],
   "source": [
    "class BlackJack():\n",
    "    '''Runs the game of blackjack, controlling interaction between the dealer and the players'''\n",
    "    def __init__(self):\n",
    "        players = self.initialise_players()\n",
    "        dealer = self.initialise_dealer() \n",
    "        \n",
    "    def initialise_players(self):\n",
    "        '''create a list of players'''\n",
    "        player_names = None\n",
    "        players = None\n",
    "        while not player_names:\n",
    "            try:\n",
    "                player_names = input(\"Please provide the names of players seperated by commas\")\n",
    "                \n",
    "                if player_names:\n",
    "                    players = self.create_players(player_names.split(\",\"))\n",
    "                else:\n",
    "                    raise BlackJackException(\"players not provided.\")\n",
    "            except BlackJackException as exc:\n",
    "                print(f\"unable to create list of players from {players}. Exception: {exc}\")\n",
    "        return players\n",
    "    \n",
    "    def initialise_dealer(self):\n",
    "        '''create dealer'''\n",
    "        dealer = Dealer()\n",
    "        return dealer\n",
    "    \n",
    "    def create_players(self,player_names):\n",
    "        '''create a list of instances of players'''\n",
    "        print(f\"The following players will be created: \\n{player_names}\")\n",
    "        return [Player(name) for name in player_names]\n",
    "    \n",
    "    def run(self):\n",
    "        '''run the game'''\n",
    "        for player in players:\n",
    "            player.add_ dealer.deal_cards()\n",
    "        \n",
    "        \n",
    "        ##TBC\n",
    "        #1. Deal cards\n",
    "         #2. Show all cards\n",
    "            # if 21, give out money. \n",
    "            # else, prompt players what they want.\n",
    "            # deal until all want to stop\n",
    "            #reveal dealer card.\n",
    "            #dish out money to whoever is highest.\n",
    "            #*********Questions********\n",
    "            #\n",
    "            \n",
    "            #        \n",
    "    "
   ]
  },
  {
   "cell_type": "code",
   "execution_count": 80,
   "metadata": {},
   "outputs": [
    {
     "name": "stdout",
     "output_type": "stream",
     "text": [
      "Please provide the names of players seperated by commasd,f,g\n",
      "The following players will be created: \n",
      "['d', 'f', 'g']\n",
      "creating dealer..\n"
     ]
    }
   ],
   "source": [
    "f = BlackJack()"
   ]
  },
  {
   "cell_type": "code",
   "execution_count": null,
   "metadata": {},
   "outputs": [],
   "source": [
    "\n",
    "        "
   ]
  }
 ],
 "metadata": {
  "kernelspec": {
   "display_name": "Python 3",
   "language": "python",
   "name": "python3"
  },
  "language_info": {
   "codemirror_mode": {
    "name": "ipython",
    "version": 3
   },
   "file_extension": ".py",
   "mimetype": "text/x-python",
   "name": "python",
   "nbconvert_exporter": "python",
   "pygments_lexer": "ipython3",
   "version": "3.6.4"
  }
 },
 "nbformat": 4,
 "nbformat_minor": 1
}
