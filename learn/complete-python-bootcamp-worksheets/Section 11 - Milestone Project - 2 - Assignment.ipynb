{
 "cells": [
  {
   "cell_type": "markdown",
   "metadata": {},
   "source": [
    "___\n",
    "\n",
    "<a href='https://www.udemy.com/user/joseportilla/'><img src='../Pierian_Data_Logo.png'/></a>\n",
    "___\n",
    "<center><em>Content Copyright by Pierian Data</em></center>"
   ]
  },
  {
   "cell_type": "markdown",
   "metadata": {},
   "source": [
    "# Milestone Project 2 - Blackjack Game\n",
    "In this milestone project you will be creating a Complete BlackJack Card Game in Python.\n",
    "\n",
    "Here are the requirements:\n",
    "\n",
    "* You need to create a simple text-based [BlackJack](https://en.wikipedia.org/wiki/Blackjack) game\n",
    "* The game needs to have one player versus an automated dealer.\n",
    "* The player can stand or hit.\n",
    "* The player must be able to pick their betting amount.\n",
    "* You need to keep track of the player's total money.\n",
    "* You need to alert the player of wins, losses, or busts, etc...\n",
    "\n",
    "And most importantly:\n",
    "\n",
    "* **You must use OOP and classes in some portion of your game. You can not just use functions in your game. Use classes to help you define the Deck and the Player's hand. There are many right ways to do this, so explore it well!**\n",
    "\n",
    "\n",
    "Feel free to expand this game. Try including multiple players. Try adding in Double-Down and card splits! Remember to you are free to use any resources you want and as always:\n",
    "\n",
    "# HAVE FUN!"
   ]
  },
  {
   "cell_type": "code",
   "execution_count": 36,
   "metadata": {},
   "outputs": [],
   "source": [
    "suits = ('Hearts', 'Diamonds', 'Spades', 'Clubs')\n",
    "ranks = ('Two', 'Three', 'Four', 'Five', 'Six', 'Seven', 'Eight', 'Nine', 'Ten', 'Jack', 'Queen', 'King', 'Ace')\n",
    "values = {'Two':2, 'Three':3, 'Four':4, 'Five':5, 'Six':6, 'Seven':7, 'Eight':8, \n",
    "            'Nine':9, 'Ten':10, 'Jack':10, 'Queen':10, 'King':10, 'Ace':[1,11]}\n",
    "\n",
    "class Card:\n",
    "    def __init__(self, suit, rank):\n",
    "        self.suit = suit\n",
    "        self.rank = rank\n",
    "        self.value = values[self.rank]\n",
    "\n",
    "    def __str__(self):\n",
    "        return self.rank + \" of \"+self.suit +\" = \"+str(values[self.rank])\n",
    "    \n",
    "import random\n",
    "class Deck:\n",
    "\n",
    "    def __init__(self):\n",
    "        self.all_cards = [ Card(suit=suit, rank=rank) for rank in ranks for suit in suits]\n",
    "                \n",
    "    def shuffle(self):\n",
    "        random.shuffle(self.all_cards)\n",
    "\n",
    "    def has_cards(self):\n",
    "        return len(self.all_cards) >0\n",
    "    \n",
    "    def card_count(self):\n",
    "        return len(self.all_cards)  \n",
    "    \n",
    "    def deal(self, required):\n",
    "        \n",
    "        if self.has_cards():\n",
    "            self.shuffle()\n",
    "            cards = []\n",
    "            for count in range(required):\n",
    "                cards.append(self.all_cards.pop())\n",
    "            return cards\n",
    "        else:\n",
    "            print(\"no more cards to deal\")\n",
    "    def __str__(self):\n",
    "        return [card for card in self.all_cards]          \n",
    "    \n",
    "class BlackJackException(Exception):\n",
    "    '''Exceptions thrown while using blackjack'''\n",
    "    def __init__(self, message):\n",
    "        self.message= message\n",
    "        \n",
    "class Player:\n",
    "    '''class used to create and manage blackjack players'''\n",
    "    def __init__(self, name):\n",
    "        self.name = name\n",
    "        self.cards = []\n",
    "        \n",
    "    def add_cards(self, cards):\n",
    "        self.cards.extend(cards)\n",
    "        \n",
    "    def __str__(self):\n",
    "        cards = \"\"\n",
    "        for card in self.cards:\n",
    "            cards+=\"\\n\"+str(card)\n",
    "            \n",
    "        return f\"{self.name}\\n-----------{cards}\\n\"\n",
    "    \n",
    "class Dealer(Player):\n",
    "    '''class used to manage the dealer of the blackjack game'''\n",
    "    def __init__(self):\n",
    "        print(\"creating dealer..\")\n",
    "        self.deck = Deck()\n",
    "        super(Dealer,self).__init__(\"Dealer\")\n",
    "                \n",
    "    def deal_cards(self, count):\n",
    "        return self.deck.deal(count)\n",
    "\n",
    "    def add_cards(self, cards):\n",
    "        super(Dealer,self).add_cards(cards)\n",
    "        self.dealer_card = self.cards.pop(-1)    \n",
    "    \n",
    "    def last_card(self):\n",
    "        return self.dealer_card"
   ]
  },
  {
   "cell_type": "code",
   "execution_count": 37,
   "metadata": {},
   "outputs": [],
   "source": [
    "class BlackJack():\n",
    "    '''Runs the game of blackjack, controlling interaction between the dealer and the players'''\n",
    "    def __init__(self):\n",
    "        self.players = self.initialise_players()\n",
    "        self.dealer = self.initialise_dealer() \n",
    "        \n",
    "    def initialise_players(self):\n",
    "        '''create a list of players'''\n",
    "        player_names = None\n",
    "        players = None\n",
    "        while not player_names:\n",
    "            try:\n",
    "                player_names = input(\"Please provide the names of players seperated by commas\")\n",
    "                \n",
    "                if player_names:\n",
    "                    players = self.create_players(player_names.split(\",\"))\n",
    "                else:\n",
    "                    raise BlackJackException(\"players not provided.\")\n",
    "            except BlackJackException as exc:\n",
    "                print(f\"unable to create list of players from {players}. Exception: {exc}\")\n",
    "        return players\n",
    "    \n",
    "    def initialise_dealer(self):\n",
    "        '''create dealer'''\n",
    "        dealer = Dealer()\n",
    "        return dealer\n",
    "    \n",
    "    def create_players(self,player_names):\n",
    "        '''create a list of instances of players'''\n",
    "        print(f\"The following players will be created: \\n{player_names}\")\n",
    "        return [Player(name) for name in player_names]\n",
    "    \n",
    "    def run(self):\n",
    "        '''run the game'''\n",
    "        for player in self.players:\n",
    "            player.add_cards(self.dealer.deal_cards(2))\n",
    "        self.dealer.add_cards(self.dealer.deal_cards(2))\n",
    "        for player in self.players + [self.dealer]:\n",
    "            print(player)\n",
    "\n",
    "            \n",
    "        \n",
    "        \n",
    "        \n",
    "        ##TBC\n",
    "        #1. Deal cards\n",
    "         #2. Show all cards\n",
    "            # if 21, give out money. \n",
    "            # else, prompt players what they want.\n",
    "            # deal until all want to stop\n",
    "            #reveal dealer card.\n",
    "            #dish out money to whoever is highest.\n",
    "            #*********Questions********\n",
    "            #\n",
    "            \n",
    "            #        \n",
    "    "
   ]
  },
  {
   "cell_type": "code",
   "execution_count": 38,
   "metadata": {},
   "outputs": [
    {
     "name": "stdout",
     "output_type": "stream",
     "text": [
      "Please provide the names of players seperated by commasd,f,5\n",
      "The following players will be created: \n",
      "['d', 'f', '5']\n",
      "creating dealer..\n"
     ]
    }
   ],
   "source": [
    "f = BlackJack()"
   ]
  },
  {
   "cell_type": "code",
   "execution_count": 39,
   "metadata": {},
   "outputs": [
    {
     "name": "stdout",
     "output_type": "stream",
     "text": [
      "d\n",
      "-----------\n",
      "King of Spades = 10\n",
      "Jack of Spades = 10\n",
      "\n",
      "f\n",
      "-----------\n",
      "Ten of Clubs = 10\n",
      "Three of Spades = 3\n",
      "\n",
      "5\n",
      "-----------\n",
      "Four of Hearts = 4\n",
      "Two of Diamonds = 2\n",
      "\n",
      "Dealer\n",
      "-----------\n",
      "Three of Diamonds = 3\n",
      "\n"
     ]
    }
   ],
   "source": [
    "f.run()\n",
    "        "
   ]
  },
  {
   "cell_type": "code",
   "execution_count": 12,
   "metadata": {},
   "outputs": [],
   "source": [
    "x = [3,43,5]+[7]"
   ]
  },
  {
   "cell_type": "code",
   "execution_count": 13,
   "metadata": {},
   "outputs": [
    {
     "data": {
      "text/plain": [
       "[3, 43, 5, 7]"
      ]
     },
     "execution_count": 13,
     "metadata": {},
     "output_type": "execute_result"
    }
   ],
   "source": [
    "x"
   ]
  },
  {
   "cell_type": "code",
   "execution_count": 14,
   "metadata": {},
   "outputs": [],
   "source": [
    "myDeck = Deck()"
   ]
  },
  {
   "cell_type": "code",
   "execution_count": 20,
   "metadata": {},
   "outputs": [
    {
     "name": "stdout",
     "output_type": "stream",
     "text": [
      "\n",
      "Two of Hearts = 2\n",
      "Two of Diamonds = 2\n"
     ]
    }
   ],
   "source": [
    "printer = \"\"\n",
    "for card in myDeck.all_cards[:2]:\n",
    "    printer+=\"\\n\"+str(card)\n",
    "print(printer)"
   ]
  },
  {
   "cell_type": "code",
   "execution_count": null,
   "metadata": {},
   "outputs": [],
   "source": []
  }
 ],
 "metadata": {
  "kernelspec": {
   "display_name": "Python 3",
   "language": "python",
   "name": "python3"
  },
  "language_info": {
   "codemirror_mode": {
    "name": "ipython",
    "version": 3
   },
   "file_extension": ".py",
   "mimetype": "text/x-python",
   "name": "python",
   "nbconvert_exporter": "python",
   "pygments_lexer": "ipython3",
   "version": "3.6.4"
  }
 },
 "nbformat": 4,
 "nbformat_minor": 1
}
