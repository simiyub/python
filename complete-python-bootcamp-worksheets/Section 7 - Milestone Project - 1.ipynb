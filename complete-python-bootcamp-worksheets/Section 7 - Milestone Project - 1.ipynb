{
 "cells": [
  {
   "cell_type": "code",
   "execution_count": 59,
   "metadata": {},
   "outputs": [
    {
     "name": "stdout",
     "output_type": "stream",
     "text": [
      "Please enter a value:4\n",
      "Choose where to add it0\n"
     ]
    },
    {
     "data": {
      "text/plain": [
       "[4, '', '']"
      ]
     },
     "execution_count": 59,
     "metadata": {},
     "output_type": "execute_result"
    }
   ],
   "source": [
    "rows=['','','']\n",
    "user_input= int(input(\"Please enter a value:\"))\n",
    "user_input\n",
    "index = int(input(\"Choose where to add it\"))\n",
    "index\n",
    "rows[index] = user_input\n",
    "rows"
   ]
  },
  {
   "cell_type": "code",
   "execution_count": 60,
   "metadata": {},
   "outputs": [],
   "source": [
    "def user_choice_1():\n",
    "    choice = 'WRONG'\n",
    "    while not choice.isdigit():\n",
    "        choice = input(\"Please enter a number 0-10\")\n",
    "    try:\n",
    "        choice = int(choice)\n",
    "        if(0<=choice<=10):\n",
    "                return choice\n",
    "        else:\n",
    "            return (\"invalid choice:\"+str(choice))                   \n",
    "\n",
    "    except Exception as exc:\n",
    "        return exc"
   ]
  },
  {
   "cell_type": "code",
   "execution_count": 79,
   "metadata": {},
   "outputs": [],
   "source": [
    "def user_choice_2():\n",
    "    '''if user input is a digit and within range :0-10 we return the integer value.'''\n",
    "    choice = 'WRONG'\n",
    "    within_range = lambda val: val in list(range(11))\n",
    "    acceptable_range = range(0,10)\n",
    "    while choice.isdigit()==False or within_range==False:\n",
    "        choice = input(\"Please enter a number 0-10\")\n",
    "        \n",
    "       # if not choice.isdigit():\n",
    "        #    print(f\"Sorry {choice} is not a digit.\")\n",
    "        #elif not within_range(choice):\n",
    "         #   print( f\"{choice} is not in range 0-10\")\n",
    "            \n",
    "        if choice.isdigit() == True:\n",
    "            if int(choice) in acceptable_range:\n",
    "                within_range = True\n",
    "            else:\n",
    "                print(f\"Sorry {choice} out of range\")\n",
    "                within_range = False\n",
    "            \n",
    "    try:\n",
    "        return int(choice)                 \n",
    "\n",
    "    except Exception as exc:\n",
    "        return exc"
   ]
  },
  {
   "cell_type": "code",
   "execution_count": 81,
   "metadata": {},
   "outputs": [
    {
     "name": "stdout",
     "output_type": "stream",
     "text": [
      "Please enter a number 0-1067\n",
      "Sorry 67 out of range\n",
      "Please enter a number 0-10fg\n",
      "Please enter a number 0-104\n"
     ]
    },
    {
     "data": {
      "text/plain": [
       "4"
      ]
     },
     "execution_count": 81,
     "metadata": {},
     "output_type": "execute_result"
    }
   ],
   "source": [
    "user_choice_2()"
   ]
  },
  {
   "cell_type": "code",
   "execution_count": 82,
   "metadata": {},
   "outputs": [],
   "source": [
    "game_list = [0,1,2]"
   ]
  },
  {
   "cell_type": "code",
   "execution_count": 83,
   "metadata": {},
   "outputs": [],
   "source": [
    "def display_game(game_list):\n",
    "    print(\"Here is the current list: \")\n",
    "    print(game_list)"
   ]
  },
  {
   "cell_type": "code",
   "execution_count": 84,
   "metadata": {},
   "outputs": [
    {
     "name": "stdout",
     "output_type": "stream",
     "text": [
      "Here is the current list: \n",
      "[0, 1, 2]\n"
     ]
    }
   ],
   "source": [
    "display_game(game_list)"
   ]
  },
  {
   "cell_type": "code",
   "execution_count": 85,
   "metadata": {},
   "outputs": [],
   "source": [
    "def position_choice():\n",
    "    choice = 'wrong'\n",
    "    \n",
    "    while choice not in ['0','1','2']:\n",
    "        choice = input('Pick a position from (0,1,2):')\n",
    "        \n",
    "        if choice not in ['0','1','2']:\n",
    "            print('Sorry, invalid choice')\n",
    "    return int(choice)"
   ]
  },
  {
   "cell_type": "code",
   "execution_count": 88,
   "metadata": {},
   "outputs": [],
   "source": [
    "def replacement_choice(game_list, position):\n",
    "    user_placement = input(f'Type a String to place at your chosen position: {position}')\n",
    "    game_list[position] = user_placement\n",
    "    return game_list"
   ]
  },
  {
   "cell_type": "code",
   "execution_count": 91,
   "metadata": {},
   "outputs": [],
   "source": [
    "def game_on():\n",
    "    choice = 'wrong'\n",
    "    choices = ['Y', 'N']\n",
    "    while choice not in choices:\n",
    "        choice = input(f'Keep Playing? {choices}:')\n",
    "        \n",
    "        if choice not in choices:\n",
    "            print(f'Sorry,please choose {choices}')\n",
    "    return True if choice =='Y' else False"
   ]
  },
  {
   "cell_type": "code",
   "execution_count": 95,
   "metadata": {},
   "outputs": [
    {
     "name": "stdout",
     "output_type": "stream",
     "text": [
      "Here is the current list: \n",
      "[0, 1, 2]\n",
      "Pick a position from (0,1,2):1\n",
      "Type a String to place at your chosen position: 1er\n",
      "Here is the current list: \n",
      "[0, 'er', 2]\n",
      "Keep Playing? ['Y', 'N']:2\n",
      "Sorry,please choose ['Y', 'N']\n",
      "Keep Playing? ['Y', 'N']:fgf\n",
      "Sorry,please choose ['Y', 'N']\n",
      "Keep Playing? ['Y', 'N']:Y\n",
      "Here is the current list: \n",
      "[0, 'er', 2]\n",
      "Pick a position from (0,1,2):2\n",
      "Type a String to place at your chosen position: 2fgg\n",
      "Here is the current list: \n",
      "[0, 'er', 'fgg']\n",
      "Keep Playing? ['Y', 'N']:Y\n",
      "Here is the current list: \n",
      "[0, 'er', 'fgg']\n",
      "Pick a position from (0,1,2):0\n",
      "Type a String to place at your chosen position: 0gtju\n",
      "Here is the current list: \n",
      "['gtju', 'er', 'fgg']\n",
      "Keep Playing? ['Y', 'N']:Y\n",
      "Here is the current list: \n",
      "['gtju', 'er', 'fgg']\n",
      "Pick a position from (0,1,2):1\n",
      "Type a String to place at your chosen position: 1replace\n",
      "Here is the current list: \n",
      "['gtju', 'replace', 'fgg']\n",
      "Keep Playing? ['Y', 'N']:N\n"
     ]
    }
   ],
   "source": [
    "play = True\n",
    "game_list = [0,1,2]\n",
    "\n",
    "while play:\n",
    "    display_game(game_list)\n",
    "    position = position_choice()\n",
    "    game_list = replacement_choice(game_list, position)\n",
    "    display_game(game_list)\n",
    "    play = game_on()"
   ]
  },
  {
   "cell_type": "code",
   "execution_count": null,
   "metadata": {},
   "outputs": [],
   "source": []
  }
 ],
 "metadata": {
  "kernelspec": {
   "display_name": "Python 3",
   "language": "python",
   "name": "python3"
  },
  "language_info": {
   "codemirror_mode": {
    "name": "ipython",
    "version": 3
   },
   "file_extension": ".py",
   "mimetype": "text/x-python",
   "name": "python",
   "nbconvert_exporter": "python",
   "pygments_lexer": "ipython3",
   "version": "3.6.4"
  }
 },
 "nbformat": 4,
 "nbformat_minor": 2
}
