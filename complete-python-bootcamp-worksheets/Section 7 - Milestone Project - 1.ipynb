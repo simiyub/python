{
 "cells": [
  {
   "cell_type": "code",
   "execution_count": 1,
   "metadata": {},
   "outputs": [
    {
     "name": "stdout",
     "output_type": "stream",
     "text": [
      "Please enter a value:3\n",
      "Choose where to add it0\n"
     ]
    },
    {
     "data": {
      "text/plain": [
       "[3, '', '']"
      ]
     },
     "execution_count": 1,
     "metadata": {},
     "output_type": "execute_result"
    }
   ],
   "source": [
    "rows=['','','']\n",
    "user_input= int(input(\"Please enter a value:\"))\n",
    "user_input\n",
    "index = int(input(\"Choose where to add it\"))\n",
    "index\n",
    "rows[index] = user_input\n",
    "rows"
   ]
  },
  {
   "cell_type": "code",
   "execution_count": 43,
   "metadata": {},
   "outputs": [],
   "source": [
    "def user_choice_1():\n",
    "    choice = 'WRONG'\n",
    "    while not choice.isdigit():\n",
    "        choice = input(\"Please enter a number 0-10\")\n",
    "    try:\n",
    "        choice = int(choice)\n",
    "        if(0<=choice<=10):\n",
    "                return choice\n",
    "        else:\n",
    "            return (\"invalid choice:\"+str(choice))                   \n",
    "\n",
    "    except Exception as exc:\n",
    "        return exc"
   ]
  },
  {
   "cell_type": "code",
   "execution_count": 57,
   "metadata": {},
   "outputs": [],
   "source": [
    "def user_choice_2():\n",
    "    choice = 'WRONG'\n",
    "    within_range = lambda val: val in list(range(11))\n",
    "    while not choice.isdigit() or not within_range(choice):\n",
    "        choice = input(\"Please enter a number 0-10\")\n",
    "    try:\n",
    "        return int(choice)                 \n",
    "\n",
    "    except Exception as exc:\n",
    "        return exc"
   ]
  },
  {
   "cell_type": "code",
   "execution_count": null,
   "metadata": {},
   "outputs": [],
   "source": []
  }
 ],
 "metadata": {
  "kernelspec": {
   "display_name": "Python 3",
   "language": "python",
   "name": "python3"
  },
  "language_info": {
   "codemirror_mode": {
    "name": "ipython",
    "version": 3
   },
   "file_extension": ".py",
   "mimetype": "text/x-python",
   "name": "python",
   "nbconvert_exporter": "python",
   "pygments_lexer": "ipython3",
   "version": "3.6.4"
  }
 },
 "nbformat": 4,
 "nbformat_minor": 2
}
